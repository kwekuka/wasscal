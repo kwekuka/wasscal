{
 "cells": [
  {
   "cell_type": "code",
   "execution_count": 3,
   "metadata": {},
   "outputs": [],
   "source": [
    "import sys\n",
    "sys.path.append('../src/')\n",
    "sys.path.append('../data/')\n",
    "sys.path.append('../dirichlet_python/')\n",
    "\n",
    "from eval import * \n",
    "from calibrate import ECE "
   ]
  },
  {
   "cell_type": "code",
   "execution_count": 5,
   "metadata": {},
   "outputs": [
    {
     "name": "stdout",
     "output_type": "stream",
     "text": [
      "tensor(4.6409)\n",
      "tensor(2.2428)\n",
      "tensor(2.1887)\n",
      "tensor(1.8064)\n"
     ]
    },
    {
     "ename": "NameError",
     "evalue": "name 'bm_y_test_pred' is not defined",
     "output_type": "error",
     "traceback": [
      "\u001b[0;31m---------------------------------------------------------------------------\u001b[0m",
      "\u001b[0;31mNameError\u001b[0m                                 Traceback (most recent call last)",
      "Cell \u001b[0;32mIn[5], line 30\u001b[0m\n\u001b[1;32m     27\u001b[0m \u001b[39mprint\u001b[39m(vs\u001b[39m.\u001b[39mECE(bm\u001b[39m.\u001b[39my_test_logits, bm\u001b[39m.\u001b[39my_test))\n\u001b[1;32m     29\u001b[0m \u001b[39m#Sample of getting probabilities \u001b[39;00m\n\u001b[0;32m---> 30\u001b[0m platt\u001b[39m.\u001b[39mlogits(bm_y_test_pred)\n",
      "\u001b[0;31mNameError\u001b[0m: name 'bm_y_test_pred' is not defined"
     ]
    }
   ],
   "source": [
    "for dataset in [\"cifar10\", \"beans\", \"yeast\"]:\n",
    "    bm = BenchmarkDataset(dataset=dataset)\n",
    "\n",
    "    #Samples of fitting and computing calibration error \n",
    "    platt = PlattScaling(bm.K)\n",
    "    platt.fit(bm.y_val_pred, bm.y_val)\n",
    "    print(platt.ECE(bm.y_test_pred, bm.y_test))\n",
    "\n",
    "    #Example of how to get calibrated logits or calibrated probabilities\n",
    "    platt.logits(bm.y_test_pred)\n",
    "    platt.calibrate(bm.y_test_pred)\n",
    "\n",
    "    iso = IsotonicCalibration(bm.K)\n",
    "    iso.fit(bm.y_val_pred, bm.y_val)\n",
    "    print(iso.ECE(bm.y_test_pred, bm.y_test))\n",
    "\n",
    "    # dc = DirichletCalibration()\n",
    "    # dc.fit(bm.y_val_logits, bm.y_val)\n",
    "    # print(dc.ECE(bm.y_test_logits, bm.y_test))\n",
    "\n",
    "    ts = TemperatureScaling()\n",
    "    ts.fit(bm.y_val_logits, bm.y_val)\n",
    "    print(ts.ECE(bm.y_test_logits, bm.y_test))\n",
    "\n",
    "    vs = VectorScaling(K=bm.K)\n",
    "    vs.fit(bm.y_val_logits, bm.y_val)\n",
    "    print(vs.ECE(bm.y_test_logits, bm.y_test))\n",
    "\n"
   ]
  },
  {
   "cell_type": "code",
   "execution_count": null,
   "metadata": {},
   "outputs": [],
   "source": []
  }
 ],
 "metadata": {
  "kernelspec": {
   "display_name": "Python 3",
   "language": "python",
   "name": "python3"
  },
  "language_info": {
   "codemirror_mode": {
    "name": "ipython",
    "version": 3
   },
   "file_extension": ".py",
   "mimetype": "text/x-python",
   "name": "python",
   "nbconvert_exporter": "python",
   "pygments_lexer": "ipython3",
   "version": "3.11.3"
  },
  "orig_nbformat": 4
 },
 "nbformat": 4,
 "nbformat_minor": 2
}
